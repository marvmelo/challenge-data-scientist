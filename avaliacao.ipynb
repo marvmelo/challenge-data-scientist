{
 "cells": [
  {
   "attachments": {},
   "cell_type": "markdown",
   "metadata": {},
   "source": [
    "# Imports"
   ]
  },
  {
   "cell_type": "code",
   "execution_count": 122,
   "metadata": {},
   "outputs": [],
   "source": [
    "import requests\n",
    "import json"
   ]
  },
  {
   "cell_type": "code",
   "execution_count": 123,
   "metadata": {},
   "outputs": [],
   "source": [
    "def open_json(path):\n",
    "    with open(path, \"r\") as json_file:\n",
    "        json_str = json.load(json_file)\n",
    "    return json_str\n"
   ]
  },
  {
   "cell_type": "code",
   "execution_count": 124,
   "metadata": {},
   "outputs": [
    {
     "data": {
      "text/plain": [
       "<Response [200]>"
      ]
     },
     "execution_count": 124,
     "metadata": {},
     "output_type": "execute_result"
    }
   ],
   "source": [
    "json_test_file = open_json(\"monitoring/batch_records.json\")\n",
    "data = {\"registers\": json_test_file}\n",
    "response = requests.post(\"http://0.0.0.0:8001/v1/performance/\", json=data)\n",
    "response"
   ]
  },
  {
   "cell_type": "code",
   "execution_count": 125,
   "metadata": {},
   "outputs": [
    {
     "data": {
      "text/plain": [
       "{'month_frequency': {'1': 58,\n",
       "  '2': 55,\n",
       "  '3': 62,\n",
       "  '4': 49,\n",
       "  '5': 67,\n",
       "  '6': 63,\n",
       "  '7': 74,\n",
       "  '8': 72},\n",
       " 'auc': 0.7375415282392026,\n",
       " 'FPRs': [0.0, 0.0, 0.0, 0.14285714285714285, 0.8571428571428571, 1.0],\n",
       " 'TPRs': [0.0,\n",
       "  0.11627906976744186,\n",
       "  0.3953488372093023,\n",
       "  0.5348837209302325,\n",
       "  0.9534883720930233,\n",
       "  1.0]}"
      ]
     },
     "execution_count": 125,
     "metadata": {},
     "output_type": "execute_result"
    }
   ],
   "source": [
    "response.json()"
   ]
  }
 ],
 "metadata": {
  "kernelspec": {
   "display_name": "neurotech",
   "language": "python",
   "name": "python3"
  },
  "language_info": {
   "codemirror_mode": {
    "name": "ipython",
    "version": 3
   },
   "file_extension": ".py",
   "mimetype": "text/x-python",
   "name": "python",
   "nbconvert_exporter": "python",
   "pygments_lexer": "ipython3",
   "version": "3.10.9"
  },
  "orig_nbformat": 4,
  "vscode": {
   "interpreter": {
    "hash": "aade48f40027f96d08a54b51b5d1957c40170a3adf8ef39cbcb7bedf6fd9bd41"
   }
  }
 },
 "nbformat": 4,
 "nbformat_minor": 2
}
